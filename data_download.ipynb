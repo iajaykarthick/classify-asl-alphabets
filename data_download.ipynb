{
 "cells": [
  {
   "cell_type": "code",
   "execution_count": 4,
   "id": "5601040c",
   "metadata": {},
   "outputs": [
    {
     "name": "stdout",
     "output_type": "stream",
     "text": [
      "Downloading asl-alphabet.zip to data\n",
      "100%|██████████████████████████████████████| 1.03G/1.03G [00:21<00:00, 55.5MB/s]\n",
      "100%|██████████████████████████████████████| 1.03G/1.03G [00:21<00:00, 52.1MB/s]\n"
     ]
    }
   ],
   "source": [
    "!mkdir -p data\n",
    "!kaggle datasets download -d grassknoted/asl-alphabet -p data/ --unzip"
   ]
  },
  {
   "cell_type": "code",
   "execution_count": null,
   "id": "cf80bf5d",
   "metadata": {},
   "outputs": [],
   "source": []
  }
 ],
 "metadata": {
  "kernelspec": {
   "display_name": "Python 3 (ipykernel)",
   "language": "python",
   "name": "python3"
  },
  "language_info": {
   "codemirror_mode": {
    "name": "ipython",
    "version": 3
   },
   "file_extension": ".py",
   "mimetype": "text/x-python",
   "name": "python",
   "nbconvert_exporter": "python",
   "pygments_lexer": "ipython3",
   "version": "3.11.0"
  }
 },
 "nbformat": 4,
 "nbformat_minor": 5
}
