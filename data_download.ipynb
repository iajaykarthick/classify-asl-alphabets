{
 "cells": [
  {
   "cell_type": "code",
   "execution_count": 27,
   "id": "5601040c",
   "metadata": {},
   "outputs": [
    {
     "name": "stdout",
     "output_type": "stream",
     "text": [
      "Downloading asl-alphabet.zip to data\n",
      "100%|█████████████████████████████████████▊| 1.02G/1.03G [00:22<00:00, 46.1MB/s]\n",
      "100%|██████████████████████████████████████| 1.03G/1.03G [00:22<00:00, 49.5MB/s]\n"
     ]
    }
   ],
   "source": [
    "!mkdir -p data\n",
    "!kaggle datasets download -d grassknoted/asl-alphabet -p data/ --unzip"
   ]
  },
  {
   "cell_type": "code",
   "execution_count": 28,
   "id": "434f764d",
   "metadata": {},
   "outputs": [],
   "source": [
    "!mv data/asl_alphabet_train/asl_alphabet_train data/train\n",
    "!mv data/asl_alphabet_test/asl_alphabet_test data/test"
   ]
  },
  {
   "cell_type": "code",
   "execution_count": 30,
   "id": "887fcf0a",
   "metadata": {},
   "outputs": [],
   "source": [
    "!rm -rf data/asl_alphabet_train\n",
    "!rm -rf data/asl_alphabet_test"
   ]
  },
  {
   "cell_type": "code",
   "execution_count": null,
   "id": "a8fddf41",
   "metadata": {},
   "outputs": [],
   "source": [
    "# !find data/*/*/* -maxdepth 0 -exec cp {} data/ \\;"
   ]
  },
  {
   "cell_type": "code",
   "execution_count": 31,
   "id": "c41d0026",
   "metadata": {},
   "outputs": [],
   "source": [
    "train_img_directory = \"data/train\"\n",
    "test_img_directory = \"data/test\""
   ]
  },
  {
   "cell_type": "code",
   "execution_count": 34,
   "id": "d2bc0516",
   "metadata": {},
   "outputs": [],
   "source": [
    "import os\n",
    "folders = ['A', 'B', 'C']\n",
    "\n",
    "filenames, labels = [], []\n",
    "\n",
    "for label, folder in enumerate(folders):\n",
    "    folder_path = os.path.join(train_img_directory, folder)\n",
    "    images = [os.path.join(folder_path, d)\n",
    "                 for d in sorted(os.listdir(folder_path))]\n",
    "    labels.extend(len(images) * [label])\n",
    "    filenames.extend(images)\n"
   ]
  },
  {
   "cell_type": "code",
   "execution_count": null,
   "id": "e1412b87",
   "metadata": {},
   "outputs": [],
   "source": [
    "import random\n",
    "import tensorflow as tf\n",
    "from tensorflow import keras\n",
    "from keras.utils import np_utils, to_categorical\n",
    "from keras.preprocessing import image"
   ]
  },
  {
   "cell_type": "code",
   "execution_count": 40,
   "id": "a821a2ec",
   "metadata": {},
   "outputs": [],
   "source": [
    "def path_to_tensor(img_path, size):\n",
    "    # loads RGB image as PIL.Image.Image type\n",
    "    img = image.load_img(img_path, target_size=(size, size))\n",
    "    # convert PIL.Image.Image type to 3D tensor\n",
    "    x = image.img_to_array(img)\n",
    "    # convert 3D tensor to 4D tensor \n",
    "    return np.expand_dims(x, axis=0)\n",
    "\n",
    "def paths_to_tensor(img_paths, size=50):\n",
    "    list_of_tensors = [path_to_tensor(img_path, size) for img_path in img_paths]\n",
    "    return np.vstack(list_of_tensors)"
   ]
  },
  {
   "cell_type": "code",
   "execution_count": 41,
   "id": "59c35e3f",
   "metadata": {},
   "outputs": [
    {
     "ename": "NameError",
     "evalue": "name 'image' is not defined",
     "output_type": "error",
     "traceback": [
      "\u001b[0;31m---------------------------------------------------------------------------\u001b[0m",
      "\u001b[0;31mNameError\u001b[0m                                 Traceback (most recent call last)",
      "Cell \u001b[0;32mIn [41], line 11\u001b[0m\n\u001b[1;32m      7\u001b[0m filenames, labels \u001b[38;5;241m=\u001b[39m \u001b[38;5;28mzip\u001b[39m(\u001b[38;5;241m*\u001b[39mdata)\n\u001b[1;32m     10\u001b[0m \u001b[38;5;66;03m# Get the images\u001b[39;00m\n\u001b[0;32m---> 11\u001b[0m x \u001b[38;5;241m=\u001b[39m \u001b[43mpaths_to_tensor\u001b[49m\u001b[43m(\u001b[49m\u001b[43mfilenames\u001b[49m\u001b[43m)\u001b[49m\u001b[38;5;241m.\u001b[39mastype(\u001b[38;5;124m'\u001b[39m\u001b[38;5;124mfloat32\u001b[39m\u001b[38;5;124m'\u001b[39m)\u001b[38;5;241m/\u001b[39m\u001b[38;5;241m255\u001b[39m\n\u001b[1;32m     12\u001b[0m \u001b[38;5;66;03m# Store the one-hot targets\u001b[39;00m\n\u001b[1;32m     13\u001b[0m y \u001b[38;5;241m=\u001b[39m np\u001b[38;5;241m.\u001b[39marray(labels)\n",
      "Cell \u001b[0;32mIn [40], line 10\u001b[0m, in \u001b[0;36mpaths_to_tensor\u001b[0;34m(img_paths, size)\u001b[0m\n\u001b[1;32m      9\u001b[0m \u001b[38;5;28;01mdef\u001b[39;00m \u001b[38;5;21mpaths_to_tensor\u001b[39m(img_paths, size\u001b[38;5;241m=\u001b[39m\u001b[38;5;241m50\u001b[39m):\n\u001b[0;32m---> 10\u001b[0m     list_of_tensors \u001b[38;5;241m=\u001b[39m \u001b[43m[\u001b[49m\u001b[43mpath_to_tensor\u001b[49m\u001b[43m(\u001b[49m\u001b[43mimg_path\u001b[49m\u001b[43m,\u001b[49m\u001b[43m \u001b[49m\u001b[43msize\u001b[49m\u001b[43m)\u001b[49m\u001b[43m \u001b[49m\u001b[38;5;28;43;01mfor\u001b[39;49;00m\u001b[43m \u001b[49m\u001b[43mimg_path\u001b[49m\u001b[43m \u001b[49m\u001b[38;5;129;43;01min\u001b[39;49;00m\u001b[43m \u001b[49m\u001b[43mimg_paths\u001b[49m\u001b[43m]\u001b[49m\n\u001b[1;32m     11\u001b[0m     \u001b[38;5;28;01mreturn\u001b[39;00m np\u001b[38;5;241m.\u001b[39mvstack(list_of_tensors)\n",
      "Cell \u001b[0;32mIn [40], line 10\u001b[0m, in \u001b[0;36m<listcomp>\u001b[0;34m(.0)\u001b[0m\n\u001b[1;32m      9\u001b[0m \u001b[38;5;28;01mdef\u001b[39;00m \u001b[38;5;21mpaths_to_tensor\u001b[39m(img_paths, size\u001b[38;5;241m=\u001b[39m\u001b[38;5;241m50\u001b[39m):\n\u001b[0;32m---> 10\u001b[0m     list_of_tensors \u001b[38;5;241m=\u001b[39m [\u001b[43mpath_to_tensor\u001b[49m\u001b[43m(\u001b[49m\u001b[43mimg_path\u001b[49m\u001b[43m,\u001b[49m\u001b[43m \u001b[49m\u001b[43msize\u001b[49m\u001b[43m)\u001b[49m \u001b[38;5;28;01mfor\u001b[39;00m img_path \u001b[38;5;129;01min\u001b[39;00m img_paths]\n\u001b[1;32m     11\u001b[0m     \u001b[38;5;28;01mreturn\u001b[39;00m np\u001b[38;5;241m.\u001b[39mvstack(list_of_tensors)\n",
      "Cell \u001b[0;32mIn [40], line 3\u001b[0m, in \u001b[0;36mpath_to_tensor\u001b[0;34m(img_path, size)\u001b[0m\n\u001b[1;32m      1\u001b[0m \u001b[38;5;28;01mdef\u001b[39;00m \u001b[38;5;21mpath_to_tensor\u001b[39m(img_path, size):\n\u001b[1;32m      2\u001b[0m     \u001b[38;5;66;03m# loads RGB image as PIL.Image.Image type\u001b[39;00m\n\u001b[0;32m----> 3\u001b[0m     img \u001b[38;5;241m=\u001b[39m \u001b[43mimage\u001b[49m\u001b[38;5;241m.\u001b[39mload_img(img_path, target_size\u001b[38;5;241m=\u001b[39m(size, size))\n\u001b[1;32m      4\u001b[0m     \u001b[38;5;66;03m# convert PIL.Image.Image type to 3D tensor\u001b[39;00m\n\u001b[1;32m      5\u001b[0m     x \u001b[38;5;241m=\u001b[39m image\u001b[38;5;241m.\u001b[39mimg_to_array(img)\n",
      "\u001b[0;31mNameError\u001b[0m: name 'image' is not defined"
     ]
    }
   ],
   "source": [
    "seed = 0\n",
    "size = 50\n",
    "random.seed(seed)\n",
    "data = list(zip(filenames, labels))\n",
    "random.shuffle(data)\n",
    "data = data[:size]\n",
    "filenames, labels = zip(*data)\n",
    "\n",
    "\n",
    "# Get the images\n",
    "x = paths_to_tensor(filenames).astype('float32')/255\n",
    "# Store the one-hot targets\n",
    "y = np.array(labels)\n",
    "\n",
    "x_train = np.array(x[:int(len(x) * (1 - test_split))])\n",
    "y_train = np.array(y[:int(len(x) * (1 - test_split))])\n",
    "x_test = np.array(x[int(len(x) * (1 - test_split)):])\n",
    "y_test = np.array(y[int(len(x) * (1 - test_split)):])\n",
    "\n",
    "return (x_train, y_train), (x_test, y_test)"
   ]
  }
 ],
 "metadata": {
  "kernelspec": {
   "display_name": "Python 3 (ipykernel)",
   "language": "python",
   "name": "python3"
  },
  "language_info": {
   "codemirror_mode": {
    "name": "ipython",
    "version": 3
   },
   "file_extension": ".py",
   "mimetype": "text/x-python",
   "name": "python",
   "nbconvert_exporter": "python",
   "pygments_lexer": "ipython3",
   "version": "3.9.13"
  }
 },
 "nbformat": 4,
 "nbformat_minor": 5
}
