{
 "cells": [
  {
   "cell_type": "code",
   "execution_count": 20,
   "id": "5601040c",
   "metadata": {},
   "outputs": [
    {
     "name": "stdout",
     "output_type": "stream",
     "text": [
      "Downloading asl-alphabet.zip to data\n",
      "100%|█████████████████████████████████████▊| 1.02G/1.03G [00:20<00:00, 58.0MB/s]\n",
      "100%|██████████████████████████████████████| 1.03G/1.03G [00:20<00:00, 54.4MB/s]\n"
     ]
    }
   ],
   "source": [
    "!mkdir -p data\n",
    "!kaggle datasets download -d grassknoted/asl-alphabet -p data/ --unzip"
   ]
  },
  {
   "cell_type": "code",
   "execution_count": 23,
   "id": "cf80bf5d",
   "metadata": {},
   "outputs": [],
   "source": [
    "train_img_directory = \"data/asl_alphabet_train/asl_alphabet_train/\"\n",
    "test_img_directory = \"data/asl_alphabet_test/asl_alphabet_test/\""
   ]
  },
  {
   "cell_type": "code",
   "execution_count": null,
   "id": "a8fddf41",
   "metadata": {},
   "outputs": [],
   "source": []
  }
 ],
 "metadata": {
  "kernelspec": {
   "display_name": "Python 3 (ipykernel)",
   "language": "python",
   "name": "python3"
  },
  "language_info": {
   "codemirror_mode": {
    "name": "ipython",
    "version": 3
   },
   "file_extension": ".py",
   "mimetype": "text/x-python",
   "name": "python",
   "nbconvert_exporter": "python",
   "pygments_lexer": "ipython3",
   "version": "3.11.0"
  }
 },
 "nbformat": 4,
 "nbformat_minor": 5
}
