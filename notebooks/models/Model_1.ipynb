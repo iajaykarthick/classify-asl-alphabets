{
 "cells": [
  {
   "cell_type": "code",
   "execution_count": 35,
   "id": "dbb1f8cb",
   "metadata": {},
   "outputs": [],
   "source": [
    "import numpy as np\n",
    "import matplotlib.pyplot as plt\n",
    "\n",
    "from data import data_loader\n",
    "\n",
    "from tensorflow.keras.preprocessing.image import ImageDataGenerator, load_img, img_to_array\n",
    "from tensorflow.keras import layers\n",
    "from tensorflow.keras import models\n",
    "from tensorflow.keras import optimizers"
   ]
  },
  {
   "cell_type": "code",
   "execution_count": 2,
   "id": "1dea56b7",
   "metadata": {},
   "outputs": [
    {
     "name": "stdout",
     "output_type": "stream",
     "text": [
      "Found 70499 images belonging to 29 classes.\n",
      "Found 7830 images belonging to 29 classes.\n",
      "Found 8700 images belonging to 29 classes.\n"
     ]
    }
   ],
   "source": [
    "train_generator, val_generator, test_generator = data_loader.load_data()"
   ]
  },
  {
   "cell_type": "code",
   "execution_count": 3,
   "id": "4c28b330",
   "metadata": {},
   "outputs": [
    {
     "name": "stdout",
     "output_type": "stream",
     "text": [
      "data batch shape: (64, 150, 150, 3)\n",
      "labels batch shape: (64, 29)\n"
     ]
    }
   ],
   "source": [
    "for data_batch, labels_batch in train_generator:\n",
    "    input_shape = data_batch.shape[1:]\n",
    "    num_classes = labels_batch.shape[1]\n",
    "    print('data batch shape:', data_batch.shape)\n",
    "    print('labels batch shape:', labels_batch.shape)\n",
    "    break"
   ]
  },
  {
   "cell_type": "code",
   "execution_count": 4,
   "id": "10d8baf5",
   "metadata": {},
   "outputs": [
    {
     "data": {
      "text/plain": [
       "(150, 150, 3)"
      ]
     },
     "execution_count": 4,
     "metadata": {},
     "output_type": "execute_result"
    }
   ],
   "source": [
    "input_shape"
   ]
  },
  {
   "cell_type": "code",
   "execution_count": 5,
   "id": "e22e647e",
   "metadata": {},
   "outputs": [
    {
     "name": "stdout",
     "output_type": "stream",
     "text": [
      "Metal device set to: Apple M1 Pro\n"
     ]
    },
    {
     "name": "stderr",
     "output_type": "stream",
     "text": [
      "2022-12-13 15:49:21.456702: I tensorflow/core/common_runtime/pluggable_device/pluggable_device_factory.cc:306] Could not identify NUMA node of platform GPU ID 0, defaulting to 0. Your kernel may not have been built with NUMA support.\n",
      "2022-12-13 15:49:21.456978: I tensorflow/core/common_runtime/pluggable_device/pluggable_device_factory.cc:272] Created TensorFlow device (/job:localhost/replica:0/task:0/device:GPU:0 with 0 MB memory) -> physical PluggableDevice (device: 0, name: METAL, pci bus id: <undefined>)\n"
     ]
    }
   ],
   "source": [
    "model = models.Sequential()\n",
    "model.add(layers.Conv2D(32, (3, 3), activation='relu',input_shape=input_shape))\n",
    "model.add(layers.MaxPooling2D((2, 2)))\n",
    "model.add(layers.Conv2D(64, (3, 3), activation='relu'))\n",
    "model.add(layers.MaxPooling2D((2, 2)))\n",
    "model.add(layers.Flatten())\n",
    "model.add(layers.Dense(512, activation='relu'))\n",
    "model.add(layers.Dense(29, activation='softmax'))"
   ]
  },
  {
   "cell_type": "code",
   "execution_count": 6,
   "id": "b4b9452c",
   "metadata": {},
   "outputs": [
    {
     "name": "stdout",
     "output_type": "stream",
     "text": [
      "Model: \"sequential\"\n",
      "_________________________________________________________________\n",
      " Layer (type)                Output Shape              Param #   \n",
      "=================================================================\n",
      " conv2d (Conv2D)             (None, 148, 148, 32)      896       \n",
      "                                                                 \n",
      " max_pooling2d (MaxPooling2D  (None, 74, 74, 32)       0         \n",
      " )                                                               \n",
      "                                                                 \n",
      " conv2d_1 (Conv2D)           (None, 72, 72, 64)        18496     \n",
      "                                                                 \n",
      " max_pooling2d_1 (MaxPooling  (None, 36, 36, 64)       0         \n",
      " 2D)                                                             \n",
      "                                                                 \n",
      " flatten (Flatten)           (None, 82944)             0         \n",
      "                                                                 \n",
      " dense (Dense)               (None, 512)               42467840  \n",
      "                                                                 \n",
      " dense_1 (Dense)             (None, 29)                14877     \n",
      "                                                                 \n",
      "=================================================================\n",
      "Total params: 42,502,109\n",
      "Trainable params: 42,502,109\n",
      "Non-trainable params: 0\n",
      "_________________________________________________________________\n"
     ]
    }
   ],
   "source": [
    "model.summary()"
   ]
  },
  {
   "cell_type": "code",
   "execution_count": 7,
   "id": "57df7cfc",
   "metadata": {},
   "outputs": [],
   "source": [
    "model.compile(\n",
    "    optimizer='adam', \n",
    "    loss='categorical_crossentropy', \n",
    "    metrics=['accuracy']\n",
    ")"
   ]
  },
  {
   "cell_type": "code",
   "execution_count": 8,
   "id": "27e4eac8",
   "metadata": {},
   "outputs": [
    {
     "name": "stdout",
     "output_type": "stream",
     "text": [
      "Epoch 1/10\n"
     ]
    },
    {
     "name": "stderr",
     "output_type": "stream",
     "text": [
      "2022-12-13 15:49:30.769423: W tensorflow/core/platform/profile_utils/cpu_utils.cc:128] Failed to get CPU frequency: 0 Hz\n",
      "2022-12-13 15:49:30.998381: I tensorflow/core/grappler/optimizers/custom_graph_optimizer_registry.cc:114] Plugin optimizer for device_type GPU is enabled.\n"
     ]
    },
    {
     "name": "stdout",
     "output_type": "stream",
     "text": [
      "1102/1102 [==============================] - ETA: 0s - loss: 0.6791 - accuracy: 0.8014"
     ]
    },
    {
     "name": "stderr",
     "output_type": "stream",
     "text": [
      "2022-12-13 15:51:03.472981: I tensorflow/core/grappler/optimizers/custom_graph_optimizer_registry.cc:114] Plugin optimizer for device_type GPU is enabled.\n"
     ]
    },
    {
     "name": "stdout",
     "output_type": "stream",
     "text": [
      "1102/1102 [==============================] - 99s 89ms/step - loss: 0.6791 - accuracy: 0.8014 - val_loss: 0.9881 - val_accuracy: 0.6885\n",
      "Epoch 2/10\n",
      "1102/1102 [==============================] - 114s 103ms/step - loss: 0.0703 - accuracy: 0.9775 - val_loss: 0.9671 - val_accuracy: 0.7116\n",
      "Epoch 3/10\n",
      "1102/1102 [==============================] - 98s 89ms/step - loss: 0.0397 - accuracy: 0.9881 - val_loss: 0.8609 - val_accuracy: 0.7645\n",
      "Epoch 4/10\n",
      "1102/1102 [==============================] - 98s 89ms/step - loss: 0.0298 - accuracy: 0.9907 - val_loss: 0.9738 - val_accuracy: 0.7547\n",
      "Epoch 5/10\n",
      "1102/1102 [==============================] - 98s 89ms/step - loss: 0.0228 - accuracy: 0.9933 - val_loss: 1.0853 - val_accuracy: 0.7358\n",
      "Epoch 6/10\n",
      "1102/1102 [==============================] - 99s 90ms/step - loss: 0.0223 - accuracy: 0.9932 - val_loss: 1.1565 - val_accuracy: 0.7396\n",
      "Epoch 7/10\n",
      "1102/1102 [==============================] - 98s 88ms/step - loss: 0.0176 - accuracy: 0.9952 - val_loss: 1.0854 - val_accuracy: 0.7784\n",
      "Epoch 8/10\n",
      "1102/1102 [==============================] - 100s 90ms/step - loss: 0.0159 - accuracy: 0.9954 - val_loss: 1.2367 - val_accuracy: 0.7605\n",
      "Epoch 9/10\n",
      "1102/1102 [==============================] - 101s 91ms/step - loss: 0.0150 - accuracy: 0.9955 - val_loss: 1.3045 - val_accuracy: 0.7732\n",
      "Epoch 10/10\n",
      "1102/1102 [==============================] - 98s 89ms/step - loss: 0.0138 - accuracy: 0.9962 - val_loss: 1.3576 - val_accuracy: 0.7746\n"
     ]
    }
   ],
   "source": [
    "history = model.fit(\n",
    "    train_generator,\n",
    "    validation_data = val_generator,\n",
    "    epochs=10\n",
    ")"
   ]
  },
  {
   "cell_type": "code",
   "execution_count": 9,
   "id": "ca79d953",
   "metadata": {},
   "outputs": [
    {
     "data": {
      "image/png": "[encoded data removed]",
      "text/plain": [
       "<Figure size 640x480 with 1 Axes>"
      ]
     },
     "metadata": {},
     "output_type": "display_data"
    },
    {
     "data": {
      "image/png": "[encoded data removed]",
      "text/plain": [
       "<Figure size 640x480 with 1 Axes>"
      ]
     },
     "metadata": {},
     "output_type": "display_data"
    }
   ],
   "source": [
    "import matplotlib.pyplot as plt\n",
    "\n",
    "acc = history.history['accuracy']\n",
    "val_acc = history.history['val_accuracy']\n",
    "loss = history.history['loss']\n",
    "val_loss = history.history['val_loss']\n",
    "\n",
    "epochs = range(1, len(acc) + 1)\n",
    "\n",
    "plt.plot(epochs, acc, 'r', label='Training accuracy')\n",
    "plt.plot(epochs, val_acc, 'b', label='Validation accuracy')\n",
    "plt.title('Training and validation accuracy')\n",
    "plt.legend()\n",
    "\n",
    "plt.figure()\n",
    "\n",
    "plt.plot(epochs, loss, 'r', label='Training loss')\n",
    "plt.plot(epochs, val_loss, 'b', label='Validation loss')\n",
    "plt.title('Training and validation loss')\n",
    "plt.legend()\n",
    "\n",
    "plt.show()"
   ]
  },
  {
   "cell_type": "code",
   "execution_count": 14,
   "id": "b472b19c",
   "metadata": {},
   "outputs": [
    {
     "name": "stdout",
     "output_type": "stream",
     "text": [
      "136/136 [==============================] - 7s 53ms/step - loss: 0.1732 - accuracy: 0.9695\n",
      "Test accuracy is 96.95402383804321\n",
      "Test loss is 0.17318736016750336\n"
     ]
    }
   ],
   "source": [
    "scores = model.evaluate(test_generator)\n",
    "\n",
    "print(f'Test {model.metrics_names[1]} is {100 * scores[1]}')\n",
    "print(f'Test {model.metrics_names[0]} is {scores[0]}')"
   ]
  },
  {
   "cell_type": "code",
   "execution_count": 26,
   "id": "cd99ff98",
   "metadata": {},
   "outputs": [
    {
     "name": "stdout",
     "output_type": "stream",
     "text": [
      "136/136 [==============================] - 8s 58ms/step\n",
      "              precision    recall  f1-score   support\n",
      "\n",
      "           0       0.05      0.05      0.05       300\n",
      "           1       0.03      0.03      0.03       300\n",
      "           2       0.04      0.04      0.04       300\n",
      "           3       0.03      0.03      0.03       300\n",
      "           4       0.05      0.05      0.05       300\n",
      "           5       0.02      0.02      0.02       300\n",
      "           6       0.03      0.03      0.03       300\n",
      "           7       0.02      0.02      0.02       300\n",
      "           8       0.04      0.04      0.04       300\n",
      "           9       0.02      0.02      0.02       300\n",
      "          10       0.05      0.05      0.05       300\n",
      "          11       0.04      0.04      0.04       300\n",
      "          12       0.04      0.04      0.04       300\n",
      "          13       0.02      0.02      0.02       300\n",
      "          14       0.05      0.05      0.05       300\n",
      "          15       0.02      0.02      0.02       300\n",
      "          16       0.03      0.03      0.03       300\n",
      "          17       0.02      0.02      0.02       300\n",
      "          18       0.03      0.03      0.03       300\n",
      "          19       0.04      0.04      0.04       300\n",
      "          20       0.03      0.03      0.03       300\n",
      "          21       0.04      0.05      0.05       300\n",
      "          22       0.03      0.03      0.03       300\n",
      "          23       0.02      0.02      0.02       300\n",
      "          24       0.03      0.03      0.03       300\n",
      "          25       0.03      0.03      0.03       300\n",
      "          26       0.03      0.03      0.03       300\n",
      "          27       0.04      0.04      0.04       300\n",
      "          28       0.03      0.03      0.03       300\n",
      "\n",
      "    accuracy                           0.03      8700\n",
      "   macro avg       0.03      0.03      0.03      8700\n",
      "weighted avg       0.03      0.03      0.03      8700\n",
      "\n"
     ]
    }
   ],
   "source": [
    "from sklearn.metrics import classification_report\n",
    " \n",
    "test_labels=test_generator.classes \n",
    "\n",
    "predictions=model.predict(test_generator, verbose=1)\n",
    "\n",
    "y_pred = np.argmax(predictions, axis=-1)\n",
    "\n",
    "print(classification_report(test_labels, y_pred))"
   ]
  },
  {
   "cell_type": "code",
   "execution_count": 16,
   "id": "175f28ed",
   "metadata": {},
   "outputs": [],
   "source": [
    "from tensorflow.keras import backend\n",
    "backend.clear_session()"
   ]
  }
 ],
 "metadata": {
  "kernelspec": {
   "display_name": "Python 3 (ipykernel)",
   "language": "python",
   "name": "python3"
  },
  "language_info": {
   "codemirror_mode": {
    "name": "ipython",
    "version": 3
   },
   "file_extension": ".py",
   "mimetype": "text/x-python",
   "name": "python",
   "nbconvert_exporter": "python",
   "pygments_lexer": "ipython3",
   "version": "3.9.7"
  }
 },
 "nbformat": 4,
 "nbformat_minor": 5
}
