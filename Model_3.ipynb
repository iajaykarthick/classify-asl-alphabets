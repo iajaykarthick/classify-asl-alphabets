{
 "cells": [
  {
   "cell_type": "code",
   "execution_count": 5,
   "id": "3ab7a041",
   "metadata": {},
   "outputs": [],
   "source": [
    "import numpy as np\n",
    "import matplotlib.pyplot as plt\n",
    "\n",
    "from data import data_loader\n",
    "\n",
    "from tensorflow.keras.preprocessing.image import ImageDataGenerator, load_img, img_to_array\n",
    "from tensorflow.keras import layers\n",
    "from tensorflow.keras import models\n",
    "from tensorflow.keras import optimizers"
   ]
  },
  {
   "cell_type": "code",
   "execution_count": 6,
   "id": "340298a0",
   "metadata": {},
   "outputs": [
    {
     "name": "stdout",
     "output_type": "stream",
     "text": [
      "Found 70499 images belonging to 29 classes.\n",
      "Found 7830 images belonging to 29 classes.\n",
      "Found 8700 images belonging to 29 classes.\n"
     ]
    }
   ],
   "source": [
    "train_generator, val_generator, test_generator = data_loader.load_data()"
   ]
  },
  {
   "cell_type": "code",
   "execution_count": 7,
   "id": "2d6cd4b9",
   "metadata": {},
   "outputs": [
    {
     "name": "stdout",
     "output_type": "stream",
     "text": [
      "data batch shape: (64, 150, 150, 3)\n",
      "labels batch shape: (64, 29)\n"
     ]
    }
   ],
   "source": [
    "for data_batch, labels_batch in train_generator:\n",
    "    input_shape = data_batch.shape[1:]\n",
    "    num_classes = labels_batch.shape[1]\n",
    "    print('data batch shape:', data_batch.shape)\n",
    "    print('labels batch shape:', labels_batch.shape)\n",
    "    break"
   ]
  },
  {
   "cell_type": "code",
   "execution_count": 8,
   "id": "7c2612eb",
   "metadata": {},
   "outputs": [
    {
     "data": {
      "text/plain": [
       "(150, 150, 3)"
      ]
     },
     "execution_count": 8,
     "metadata": {},
     "output_type": "execute_result"
    }
   ],
   "source": [
    "input_shape"
   ]
  },
  {
   "cell_type": "code",
   "execution_count": 9,
   "id": "124121fb",
   "metadata": {},
   "outputs": [
    {
     "name": "stdout",
     "output_type": "stream",
     "text": [
      "Metal device set to: Apple M1 Pro\n"
     ]
    },
    {
     "name": "stderr",
     "output_type": "stream",
     "text": [
      "2022-12-13 17:14:17.018729: I tensorflow/core/common_runtime/pluggable_device/pluggable_device_factory.cc:306] Could not identify NUMA node of platform GPU ID 0, defaulting to 0. Your kernel may not have been built with NUMA support.\n",
      "2022-12-13 17:14:17.019061: I tensorflow/core/common_runtime/pluggable_device/pluggable_device_factory.cc:272] Created TensorFlow device (/job:localhost/replica:0/task:0/device:GPU:0 with 0 MB memory) -> physical PluggableDevice (device: 0, name: METAL, pci bus id: <undefined>)\n"
     ]
    }
   ],
   "source": [
    "model = models.Sequential()\n",
    "model.add(layers.Conv2D(32, (3, 3), activation='relu',input_shape=input_shape))\n",
    "model.add(layers.MaxPooling2D((2, 2)))\n",
    "model.add(layers.Conv2D(64, (3, 3), activation='relu'))\n",
    "model.add(layers.MaxPooling2D((2, 2)))\n",
    "model.add(layers.Conv2D(128, (3, 3), activation='relu'))\n",
    "model.add(layers.MaxPooling2D((2, 2)))\n",
    "model.add(layers.Flatten())\n",
    "model.add(layers.Dropout(0.5))\n",
    "model.add(layers.Dense(512, activation='relu'))\n",
    "model.add(layers.Dense(num_classes, activation='softmax'))"
   ]
  },
  {
   "cell_type": "code",
   "execution_count": 10,
   "id": "30dd8a38",
   "metadata": {},
   "outputs": [
    {
     "name": "stdout",
     "output_type": "stream",
     "text": [
      "Model: \"sequential\"\n",
      "_________________________________________________________________\n",
      " Layer (type)                Output Shape              Param #   \n",
      "=================================================================\n",
      " conv2d (Conv2D)             (None, 148, 148, 32)      896       \n",
      "                                                                 \n",
      " max_pooling2d (MaxPooling2D  (None, 74, 74, 32)       0         \n",
      " )                                                               \n",
      "                                                                 \n",
      " conv2d_1 (Conv2D)           (None, 72, 72, 64)        18496     \n",
      "                                                                 \n",
      " max_pooling2d_1 (MaxPooling  (None, 36, 36, 64)       0         \n",
      " 2D)                                                             \n",
      "                                                                 \n",
      " conv2d_2 (Conv2D)           (None, 34, 34, 128)       73856     \n",
      "                                                                 \n",
      " max_pooling2d_2 (MaxPooling  (None, 17, 17, 128)      0         \n",
      " 2D)                                                             \n",
      "                                                                 \n",
      " flatten (Flatten)           (None, 36992)             0         \n",
      "                                                                 \n",
      " dropout (Dropout)           (None, 36992)             0         \n",
      "                                                                 \n",
      " dense (Dense)               (None, 512)               18940416  \n",
      "                                                                 \n",
      " dense_1 (Dense)             (None, 29)                14877     \n",
      "                                                                 \n",
      "=================================================================\n",
      "Total params: 19,048,541\n",
      "Trainable params: 19,048,541\n",
      "Non-trainable params: 0\n",
      "_________________________________________________________________\n"
     ]
    }
   ],
   "source": [
    "model.summary()"
   ]
  },
  {
   "cell_type": "code",
   "execution_count": 11,
   "id": "ed046c9e",
   "metadata": {},
   "outputs": [],
   "source": [
    "model.compile(\n",
    "    optimizer='adam', \n",
    "    loss='categorical_crossentropy', \n",
    "    metrics=['accuracy']\n",
    ")"
   ]
  },
  {
   "cell_type": "code",
   "execution_count": 12,
   "id": "13d96b25",
   "metadata": {},
   "outputs": [
    {
     "name": "stdout",
     "output_type": "stream",
     "text": [
      "Epoch 1/10\n"
     ]
    },
    {
     "name": "stderr",
     "output_type": "stream",
     "text": [
      "2022-12-13 17:14:23.765435: W tensorflow/core/platform/profile_utils/cpu_utils.cc:128] Failed to get CPU frequency: 0 Hz\n",
      "2022-12-13 17:14:24.043924: I tensorflow/core/grappler/optimizers/custom_graph_optimizer_registry.cc:114] Plugin optimizer for device_type GPU is enabled.\n"
     ]
    },
    {
     "name": "stdout",
     "output_type": "stream",
     "text": [
      "1102/1102 [==============================] - ETA: 0s - loss: 0.6538 - accuracy: 0.8014"
     ]
    },
    {
     "name": "stderr",
     "output_type": "stream",
     "text": [
      "2022-12-13 17:15:44.583880: I tensorflow/core/grappler/optimizers/custom_graph_optimizer_registry.cc:114] Plugin optimizer for device_type GPU is enabled.\n"
     ]
    },
    {
     "name": "stdout",
     "output_type": "stream",
     "text": [
      "1102/1102 [==============================] - 87s 78ms/step - loss: 0.6538 - accuracy: 0.8014 - val_loss: 0.7278 - val_accuracy: 0.7701\n",
      "Epoch 2/10\n",
      "1102/1102 [==============================] - 87s 79ms/step - loss: 0.0782 - accuracy: 0.9744 - val_loss: 0.6935 - val_accuracy: 0.7985\n",
      "Epoch 3/10\n",
      "1102/1102 [==============================] - 86s 78ms/step - loss: 0.0486 - accuracy: 0.9842 - val_loss: 0.6852 - val_accuracy: 0.8346\n",
      "Epoch 4/10\n",
      "1102/1102 [==============================] - 86s 78ms/step - loss: 0.0410 - accuracy: 0.9875 - val_loss: 0.6145 - val_accuracy: 0.8522\n",
      "Epoch 5/10\n",
      "1102/1102 [==============================] - 84s 77ms/step - loss: 0.0310 - accuracy: 0.9906 - val_loss: 0.7260 - val_accuracy: 0.8322\n",
      "Epoch 6/10\n",
      "1102/1102 [==============================] - 85s 77ms/step - loss: 0.0272 - accuracy: 0.9913 - val_loss: 0.7029 - val_accuracy: 0.8444\n",
      "Epoch 7/10\n",
      "1102/1102 [==============================] - 85s 77ms/step - loss: 0.0257 - accuracy: 0.9924 - val_loss: 0.9415 - val_accuracy: 0.8064\n",
      "Epoch 8/10\n",
      "1102/1102 [==============================] - 86s 78ms/step - loss: 0.0244 - accuracy: 0.9928 - val_loss: 0.6446 - val_accuracy: 0.8437\n",
      "Epoch 9/10\n",
      "1102/1102 [==============================] - 85s 77ms/step - loss: 0.0180 - accuracy: 0.9948 - val_loss: 0.9825 - val_accuracy: 0.8075\n",
      "Epoch 10/10\n",
      "1102/1102 [==============================] - 86s 78ms/step - loss: 0.0203 - accuracy: 0.9941 - val_loss: 0.7913 - val_accuracy: 0.8442\n"
     ]
    }
   ],
   "source": [
    "history = model.fit(\n",
    "    train_generator,\n",
    "    validation_data = val_generator,\n",
    "    epochs=10\n",
    ")"
   ]
  },
  {
   "cell_type": "code",
   "execution_count": 13,
   "id": "875fea31",
   "metadata": {},
   "outputs": [
    {
     "data": {
      "image/png": "[encoded data removed]",
      "text/plain": [
       "<Figure size 640x480 with 1 Axes>"
      ]
     },
     "metadata": {},
     "output_type": "display_data"
    },
    {
     "data": {
      "image/png": "[encoded data removed]",
      "text/plain": [
       "<Figure size 640x480 with 1 Axes>"
      ]
     },
     "metadata": {},
     "output_type": "display_data"
    }
   ],
   "source": [
    "import matplotlib.pyplot as plt\n",
    "\n",
    "acc = history.history['accuracy']\n",
    "val_acc = history.history['val_accuracy']\n",
    "loss = history.history['loss']\n",
    "val_loss = history.history['val_loss']\n",
    "\n",
    "epochs = range(1, len(acc) + 1)\n",
    "\n",
    "plt.plot(epochs, acc, 'r', label='Training accuracy')\n",
    "plt.plot(epochs, val_acc, 'b', label='Validation accuracy')\n",
    "plt.title('Training and validation accuracy')\n",
    "plt.legend()\n",
    "\n",
    "plt.figure()\n",
    "\n",
    "plt.plot(epochs, loss, 'r', label='Training loss')\n",
    "plt.plot(epochs, val_loss, 'b', label='Validation loss')\n",
    "plt.title('Training and validation loss')\n",
    "plt.legend()\n",
    "\n",
    "plt.show()"
   ]
  },
  {
   "cell_type": "code",
   "execution_count": 14,
   "id": "a2b76c01",
   "metadata": {},
   "outputs": [
    {
     "name": "stdout",
     "output_type": "stream",
     "text": [
      "136/136 [==============================] - 7s 54ms/step - loss: 0.1027 - accuracy: 0.9809\n",
      "Test accuracy is 98.09195399284363\n",
      "Test loss is 0.10271430760622025\n"
     ]
    }
   ],
   "source": [
    "scores = model.evaluate(test_generator)\n",
    "\n",
    "print(f'Test {model.metrics_names[1]} is {100 * scores[1]}')\n",
    "print(f'Test {model.metrics_names[0]} is {scores[0]}')"
   ]
  },
  {
   "cell_type": "code",
   "execution_count": 15,
   "id": "06bd3ad4",
   "metadata": {},
   "outputs": [
    {
     "name": "stdout",
     "output_type": "stream",
     "text": [
      "  3/136 [..............................] - ETA: 6s "
     ]
    },
    {
     "name": "stderr",
     "output_type": "stream",
     "text": [
      "2022-12-13 17:29:11.493024: I tensorflow/core/grappler/optimizers/custom_graph_optimizer_registry.cc:114] Plugin optimizer for device_type GPU is enabled.\n"
     ]
    },
    {
     "name": "stdout",
     "output_type": "stream",
     "text": [
      "136/136 [==============================] - 8s 56ms/step\n",
      "              precision    recall  f1-score   support\n",
      "\n",
      "           0       0.03      0.03      0.03       300\n",
      "           1       0.05      0.05      0.05       300\n",
      "           2       0.04      0.04      0.04       300\n",
      "           3       0.04      0.04      0.04       300\n",
      "           4       0.02      0.02      0.02       300\n",
      "           5       0.02      0.02      0.02       300\n",
      "           6       0.03      0.03      0.03       300\n",
      "           7       0.03      0.03      0.03       300\n",
      "           8       0.05      0.05      0.05       300\n",
      "           9       0.02      0.02      0.02       300\n",
      "          10       0.03      0.03      0.03       300\n",
      "          11       0.04      0.04      0.04       300\n",
      "          12       0.02      0.02      0.02       300\n",
      "          13       0.04      0.04      0.04       300\n",
      "          14       0.05      0.05      0.05       300\n",
      "          15       0.02      0.02      0.02       300\n",
      "          16       0.03      0.03      0.03       300\n",
      "          17       0.03      0.03      0.03       300\n",
      "          18       0.03      0.03      0.03       300\n",
      "          19       0.03      0.03      0.03       300\n",
      "          20       0.05      0.05      0.05       300\n",
      "          21       0.02      0.02      0.02       300\n",
      "          22       0.04      0.04      0.04       300\n",
      "          23       0.04      0.04      0.04       300\n",
      "          24       0.03      0.03      0.03       300\n",
      "          25       0.05      0.05      0.05       300\n",
      "          26       0.04      0.04      0.04       300\n",
      "          27       0.04      0.04      0.04       300\n",
      "          28       0.03      0.03      0.03       300\n",
      "\n",
      "    accuracy                           0.03      8700\n",
      "   macro avg       0.03      0.03      0.03      8700\n",
      "weighted avg       0.03      0.03      0.03      8700\n",
      "\n"
     ]
    }
   ],
   "source": [
    "from sklearn.metrics import classification_report\n",
    " \n",
    "test_labels=test_generator.classes \n",
    "\n",
    "predictions=model.predict(test_generator, verbose=1)\n",
    "\n",
    "y_pred = np.argmax(predictions, axis=-1)\n",
    "\n",
    "print(classification_report(test_labels, y_pred))"
   ]
  },
  {
   "cell_type": "code",
   "execution_count": 16,
   "id": "bb5d9ec2",
   "metadata": {},
   "outputs": [],
   "source": [
    "from tensorflow.keras import backend\n",
    "backend.clear_session()"
   ]
  }
 ],
 "metadata": {
  "kernelspec": {
   "display_name": "Python 3 (ipykernel)",
   "language": "python",
   "name": "python3"
  },
  "language_info": {
   "codemirror_mode": {
    "name": "ipython",
    "version": 3
   },
   "file_extension": ".py",
   "mimetype": "text/x-python",
   "name": "python",
   "nbconvert_exporter": "python",
   "pygments_lexer": "ipython3",
   "version": "3.9.7"
  }
 },
 "nbformat": 4,
 "nbformat_minor": 5
}
