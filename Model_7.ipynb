{
 "cells": [
  {
   "cell_type": "code",
   "execution_count": 1,
   "id": "3ab7a041",
   "metadata": {},
   "outputs": [],
   "source": [
    "import numpy as np\n",
    "import matplotlib.pyplot as plt\n",
    "\n",
    "from data import data_loader\n",
    "\n",
    "from tensorflow.keras.preprocessing.image import ImageDataGenerator, load_img, img_to_array\n",
    "from tensorflow.keras import layers\n",
    "from tensorflow.keras import models\n",
    "from tensorflow.keras import optimizers"
   ]
  },
  {
   "cell_type": "code",
   "execution_count": 2,
   "id": "340298a0",
   "metadata": {},
   "outputs": [
    {
     "name": "stdout",
     "output_type": "stream",
     "text": [
      "Found 70499 images belonging to 29 classes.\n",
      "Found 7830 images belonging to 29 classes.\n",
      "Found 8700 images belonging to 29 classes.\n"
     ]
    }
   ],
   "source": [
    "train_generator, val_generator, test_generator = data_loader.load_data()"
   ]
  },
  {
   "cell_type": "code",
   "execution_count": 3,
   "id": "2d6cd4b9",
   "metadata": {},
   "outputs": [
    {
     "name": "stdout",
     "output_type": "stream",
     "text": [
      "data batch shape: (64, 150, 150, 3)\n",
      "labels batch shape: (64, 29)\n"
     ]
    }
   ],
   "source": [
    "for data_batch, labels_batch in train_generator:\n",
    "    input_shape = data_batch.shape[1:]\n",
    "    num_classes = labels_batch.shape[1]\n",
    "    print('data batch shape:', data_batch.shape)\n",
    "    print('labels batch shape:', labels_batch.shape)\n",
    "    break"
   ]
  },
  {
   "cell_type": "code",
   "execution_count": 4,
   "id": "7c2612eb",
   "metadata": {},
   "outputs": [
    {
     "data": {
      "text/plain": [
       "(150, 150, 3)"
      ]
     },
     "execution_count": 4,
     "metadata": {},
     "output_type": "execute_result"
    }
   ],
   "source": [
    "input_shape"
   ]
  },
  {
   "cell_type": "code",
   "execution_count": 16,
   "id": "a43e1bbf",
   "metadata": {},
   "outputs": [
    {
     "data": {
      "text/plain": [
       "512"
      ]
     },
     "execution_count": 16,
     "metadata": {},
     "output_type": "execute_result"
    }
   ],
   "source": [
    "256*2"
   ]
  },
  {
   "cell_type": "code",
   "execution_count": 39,
   "id": "124121fb",
   "metadata": {},
   "outputs": [],
   "source": [
    "model = models.Sequential()\n",
    "\n",
    "model.add(layers.Conv2D(32, (3, 3), padding='same', activation='relu', input_shape=input_shape))\n",
    "model.add(layers.MaxPooling2D((2, 2)))\n",
    "model.add(layers.BatchNormalization())\n",
    "\n",
    "model.add(layers.Conv2D(64, (3, 3), padding='same', activation='relu', input_shape=input_shape))\n",
    "model.add(layers.MaxPooling2D((2, 2)))\n",
    "model.add(layers.Dropout(0.25))\n",
    "\n",
    "\n",
    "model.add(layers.Conv2D(128, (3, 3), padding='same', activation='relu', input_shape=input_shape))\n",
    "model.add(layers.MaxPooling2D((2, 2)))\n",
    "model.add(layers.Dropout(0.25))\n",
    "\n",
    "\n",
    "model.add(layers.Conv2D(256, (3, 3), padding='same', activation='relu', input_shape=input_shape))\n",
    "model.add(layers.MaxPooling2D((2, 2)))\n",
    "model.add(layers.Dropout(0.25))\n",
    "\n",
    "\n",
    "model.add(layers.Flatten())\n",
    "model.add(layers.Dense(512, activation='relu'))\n",
    "model.add(layers.Dense(1024, activation='relu'))\n",
    "model.add(layers.Dense(num_classes, activation='softmax'))"
   ]
  },
  {
   "cell_type": "code",
   "execution_count": 40,
   "id": "30dd8a38",
   "metadata": {},
   "outputs": [
    {
     "name": "stdout",
     "output_type": "stream",
     "text": [
      "Model: \"sequential\"\n",
      "_________________________________________________________________\n",
      " Layer (type)                Output Shape              Param #   \n",
      "=================================================================\n",
      " conv2d (Conv2D)             (None, 150, 150, 32)      896       \n",
      "                                                                 \n",
      " max_pooling2d (MaxPooling2D  (None, 75, 75, 32)       0         \n",
      " )                                                               \n",
      "                                                                 \n",
      " batch_normalization (BatchN  (None, 75, 75, 32)       128       \n",
      " ormalization)                                                   \n",
      "                                                                 \n",
      " conv2d_1 (Conv2D)           (None, 75, 75, 64)        18496     \n",
      "                                                                 \n",
      " max_pooling2d_1 (MaxPooling  (None, 37, 37, 64)       0         \n",
      " 2D)                                                             \n",
      "                                                                 \n",
      " dropout (Dropout)           (None, 37, 37, 64)        0         \n",
      "                                                                 \n",
      " conv2d_2 (Conv2D)           (None, 37, 37, 128)       73856     \n",
      "                                                                 \n",
      " max_pooling2d_2 (MaxPooling  (None, 18, 18, 128)      0         \n",
      " 2D)                                                             \n",
      "                                                                 \n",
      " dropout_1 (Dropout)         (None, 18, 18, 128)       0         \n",
      "                                                                 \n",
      " conv2d_3 (Conv2D)           (None, 18, 18, 256)       295168    \n",
      "                                                                 \n",
      " max_pooling2d_3 (MaxPooling  (None, 9, 9, 256)        0         \n",
      " 2D)                                                             \n",
      "                                                                 \n",
      " dropout_2 (Dropout)         (None, 9, 9, 256)         0         \n",
      "                                                                 \n",
      " flatten (Flatten)           (None, 20736)             0         \n",
      "                                                                 \n",
      " dense (Dense)               (None, 512)               10617344  \n",
      "                                                                 \n",
      " dense_1 (Dense)             (None, 1024)              525312    \n",
      "                                                                 \n",
      " dense_2 (Dense)             (None, 29)                29725     \n",
      "                                                                 \n",
      "=================================================================\n",
      "Total params: 11,560,925\n",
      "Trainable params: 11,560,861\n",
      "Non-trainable params: 64\n",
      "_________________________________________________________________\n"
     ]
    }
   ],
   "source": [
    "model.summary()"
   ]
  },
  {
   "cell_type": "code",
   "execution_count": 41,
   "id": "ed046c9e",
   "metadata": {},
   "outputs": [],
   "source": [
    "model.compile(\n",
    "    optimizer='adam', \n",
    "    loss='categorical_crossentropy', \n",
    "    metrics=['accuracy']\n",
    ")"
   ]
  },
  {
   "cell_type": "code",
   "execution_count": 42,
   "id": "13d96b25",
   "metadata": {},
   "outputs": [
    {
     "name": "stdout",
     "output_type": "stream",
     "text": [
      "Epoch 1/10\n"
     ]
    },
    {
     "name": "stderr",
     "output_type": "stream",
     "text": [
      "2022-12-13 19:16:30.679846: I tensorflow/core/grappler/optimizers/custom_graph_optimizer_registry.cc:114] Plugin optimizer for device_type GPU is enabled.\n"
     ]
    },
    {
     "name": "stdout",
     "output_type": "stream",
     "text": [
      "1102/1102 [==============================] - ETA: 0s - loss: 0.7931 - accuracy: 0.7501"
     ]
    },
    {
     "name": "stderr",
     "output_type": "stream",
     "text": [
      "2022-12-13 19:18:06.970673: I tensorflow/core/grappler/optimizers/custom_graph_optimizer_registry.cc:114] Plugin optimizer for device_type GPU is enabled.\n"
     ]
    },
    {
     "name": "stdout",
     "output_type": "stream",
     "text": [
      "1102/1102 [==============================] - 103s 93ms/step - loss: 0.7931 - accuracy: 0.7501 - val_loss: 0.9302 - val_accuracy: 0.7585\n",
      "Epoch 2/10\n",
      "1102/1102 [==============================] - 102s 92ms/step - loss: 0.1125 - accuracy: 0.9624 - val_loss: 0.7096 - val_accuracy: 0.8055\n",
      "Epoch 3/10\n",
      "1102/1102 [==============================] - 101s 92ms/step - loss: 0.0743 - accuracy: 0.9759 - val_loss: 0.6036 - val_accuracy: 0.8391\n",
      "Epoch 4/10\n",
      "1102/1102 [==============================] - 101s 92ms/step - loss: 0.0586 - accuracy: 0.9822 - val_loss: 0.5983 - val_accuracy: 0.8223\n",
      "Epoch 5/10\n",
      "1102/1102 [==============================] - 101s 92ms/step - loss: 0.0521 - accuracy: 0.9851 - val_loss: 0.6959 - val_accuracy: 0.8295\n",
      "Epoch 6/10\n",
      "1102/1102 [==============================] - 101s 92ms/step - loss: 0.0519 - accuracy: 0.9852 - val_loss: 0.7177 - val_accuracy: 0.8290\n",
      "Epoch 7/10\n",
      "1102/1102 [==============================] - 102s 92ms/step - loss: 0.0481 - accuracy: 0.9866 - val_loss: 0.5234 - val_accuracy: 0.8842\n",
      "Epoch 8/10\n",
      "1102/1102 [==============================] - 102s 92ms/step - loss: 0.0352 - accuracy: 0.9905 - val_loss: 0.7636 - val_accuracy: 0.8064\n",
      "Epoch 9/10\n",
      "1102/1102 [==============================] - 102s 92ms/step - loss: 0.0427 - accuracy: 0.9881 - val_loss: 0.5899 - val_accuracy: 0.8674\n",
      "Epoch 10/10\n",
      "1102/1102 [==============================] - 102s 92ms/step - loss: 0.0348 - accuracy: 0.9906 - val_loss: 0.5427 - val_accuracy: 0.8779\n"
     ]
    }
   ],
   "source": [
    "history = model.fit(\n",
    "    train_generator,\n",
    "    validation_data = val_generator,\n",
    "    epochs=10\n",
    ")"
   ]
  },
  {
   "cell_type": "code",
   "execution_count": 43,
   "id": "875fea31",
   "metadata": {},
   "outputs": [
    {
     "data": {
      "image/png": "[encoded data removed]",
      "text/plain": [
       "<Figure size 640x480 with 1 Axes>"
      ]
     },
     "metadata": {},
     "output_type": "display_data"
    },
    {
     "data": {
      "image/png": "[encoded data removed]",
      "text/plain": [
       "<Figure size 640x480 with 1 Axes>"
      ]
     },
     "metadata": {},
     "output_type": "display_data"
    }
   ],
   "source": [
    "import matplotlib.pyplot as plt\n",
    "\n",
    "acc = history.history['accuracy']\n",
    "val_acc = history.history['val_accuracy']\n",
    "loss = history.history['loss']\n",
    "val_loss = history.history['val_loss']\n",
    "\n",
    "epochs = range(1, len(acc) + 1)\n",
    "\n",
    "plt.plot(epochs, acc, 'r', label='Training accuracy')\n",
    "plt.plot(epochs, val_acc, 'b', label='Validation accuracy')\n",
    "plt.title('Training and validation accuracy')\n",
    "plt.legend()\n",
    "\n",
    "plt.figure()\n",
    "\n",
    "plt.plot(epochs, loss, 'r', label='Training loss')\n",
    "plt.plot(epochs, val_loss, 'b', label='Validation loss')\n",
    "plt.title('Training and validation loss')\n",
    "plt.legend()\n",
    "\n",
    "plt.show()"
   ]
  },
  {
   "cell_type": "code",
   "execution_count": 44,
   "id": "a2b76c01",
   "metadata": {},
   "outputs": [
    {
     "name": "stdout",
     "output_type": "stream",
     "text": [
      "136/136 [==============================] - 8s 54ms/step - loss: 0.0571 - accuracy: 0.9841\n",
      "Test accuracy is 98.41379523277283\n",
      "Test loss is 0.057078149169683456\n"
     ]
    }
   ],
   "source": [
    "scores = model.evaluate(test_generator)\n",
    "\n",
    "print(f'Test {model.metrics_names[1]} is {100 * scores[1]}')\n",
    "print(f'Test {model.metrics_names[0]} is {scores[0]}')"
   ]
  },
  {
   "cell_type": "code",
   "execution_count": 45,
   "id": "06bd3ad4",
   "metadata": {},
   "outputs": [
    {
     "name": "stdout",
     "output_type": "stream",
     "text": [
      "\r",
      "  1/136 [..............................] - ETA: 32s"
     ]
    },
    {
     "name": "stderr",
     "output_type": "stream",
     "text": [
      "2022-12-13 19:38:06.221070: I tensorflow/core/grappler/optimizers/custom_graph_optimizer_registry.cc:114] Plugin optimizer for device_type GPU is enabled.\n"
     ]
    },
    {
     "name": "stdout",
     "output_type": "stream",
     "text": [
      "136/136 [==============================] - 8s 59ms/step\n",
      "              precision    recall  f1-score   support\n",
      "\n",
      "           0       0.04      0.04      0.04       300\n",
      "           1       0.03      0.03      0.03       300\n",
      "           2       0.04      0.04      0.04       300\n",
      "           3       0.03      0.03      0.03       300\n",
      "           4       0.02      0.02      0.02       300\n",
      "           5       0.03      0.03      0.03       300\n",
      "           6       0.06      0.06      0.06       300\n",
      "           7       0.03      0.03      0.03       300\n",
      "           8       0.03      0.03      0.03       300\n",
      "           9       0.02      0.02      0.02       300\n",
      "          10       0.03      0.03      0.03       300\n",
      "          11       0.05      0.05      0.05       300\n",
      "          12       0.04      0.04      0.04       300\n",
      "          13       0.03      0.03      0.03       300\n",
      "          14       0.06      0.06      0.06       300\n",
      "          15       0.03      0.03      0.03       300\n",
      "          16       0.02      0.02      0.02       300\n",
      "          17       0.03      0.03      0.03       300\n",
      "          18       0.05      0.05      0.05       300\n",
      "          19       0.04      0.04      0.04       300\n",
      "          20       0.02      0.02      0.02       300\n",
      "          21       0.03      0.03      0.03       300\n",
      "          22       0.05      0.05      0.05       300\n",
      "          23       0.03      0.03      0.03       300\n",
      "          24       0.03      0.03      0.03       300\n",
      "          25       0.04      0.04      0.04       300\n",
      "          26       0.03      0.03      0.03       300\n",
      "          27       0.04      0.04      0.04       300\n",
      "          28       0.04      0.04      0.04       300\n",
      "\n",
      "    accuracy                           0.04      8700\n",
      "   macro avg       0.04      0.04      0.04      8700\n",
      "weighted avg       0.04      0.04      0.04      8700\n",
      "\n"
     ]
    }
   ],
   "source": [
    "from sklearn.metrics import classification_report\n",
    " \n",
    "test_labels=test_generator.classes \n",
    "\n",
    "predictions=model.predict(test_generator, verbose=1)\n",
    "\n",
    "y_pred = np.argmax(predictions, axis=-1)\n",
    "\n",
    "print(classification_report(test_labels, y_pred))"
   ]
  },
  {
   "cell_type": "code",
   "execution_count": 38,
   "id": "bb5d9ec2",
   "metadata": {},
   "outputs": [],
   "source": [
    "from tensorflow.keras import backend\n",
    "backend.clear_session()"
   ]
  }
 ],
 "metadata": {
  "kernelspec": {
   "display_name": "Python 3 (ipykernel)",
   "language": "python",
   "name": "python3"
  },
  "language_info": {
   "codemirror_mode": {
    "name": "ipython",
    "version": 3
   },
   "file_extension": ".py",
   "mimetype": "text/x-python",
   "name": "python",
   "nbconvert_exporter": "python",
   "pygments_lexer": "ipython3",
   "version": "3.9.7"
  }
 },
 "nbformat": 4,
 "nbformat_minor": 5
}
