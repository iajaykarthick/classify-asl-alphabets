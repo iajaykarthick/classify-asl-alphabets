{
 "cells": [
  {
   "cell_type": "code",
   "execution_count": 160,
   "id": "5ec50d77",
   "metadata": {},
   "outputs": [],
   "source": [
    "import os\n",
    "import shutil\n",
    "import numpy as np"
   ]
  },
  {
   "cell_type": "code",
   "execution_count": 161,
   "id": "904cd3b2",
   "metadata": {},
   "outputs": [],
   "source": [
    "from tensorflow.keras.preprocessing.image import ImageDataGenerator"
   ]
  },
  {
   "cell_type": "code",
   "execution_count": 162,
   "id": "142afdef",
   "metadata": {},
   "outputs": [],
   "source": [
    "train_dir = 'data/train'\n",
    "test_dir = 'data/test'"
   ]
  },
  {
   "cell_type": "code",
   "execution_count": 164,
   "id": "5047a8e0",
   "metadata": {},
   "outputs": [],
   "source": [
    "if all(len(os.listdir(os.path.join(train_dir, alphabet))) == 3000 for alphabet in os.listdir(train_dir)):\n",
    "    dirs = os.listdir(train_dir)\n",
    "\n",
    "    for i in range(len(dirs)):\n",
    "        train_src = os.path.join(train_dir, dirs[i])\n",
    "        test_dst = os.path.join(test_dir, dirs[i])\n",
    "\n",
    "        if not os.path.exists(test_dst):\n",
    "            os.makedirs(test_dst)\n",
    "\n",
    "        files = np.random.choice(np.asarray(os.listdir(train_src)), 299, replace=False)\n",
    "        for file in files:\n",
    "            shutil.move(\n",
    "                os.path.join(train_src, file),\n",
    "                os.path.join(test_dst, file)\n",
    "            )\n",
    "\n",
    "    for elem in os.listdir(test_dir):\n",
    "        if '.jpg' in elem:\n",
    "            to_dir = elem.split('_test.jpg')[0]\n",
    "            shutil.move(\n",
    "                os.path.join(test_dir, elem),\n",
    "                os.path.join(test_dir, to_dir, elem)\n",
    "            )"
   ]
  },
  {
   "cell_type": "code",
   "execution_count": 167,
   "id": "d4461ad4",
   "metadata": {},
   "outputs": [],
   "source": [
    "train_datagen = ImageDataGenerator(rescale=1./255, validation_split=0.1)             \n",
    "test_datagen = ImageDataGenerator(rescale=1./255)"
   ]
  },
  {
   "cell_type": "code",
   "execution_count": 168,
   "id": "bda04a41",
   "metadata": {},
   "outputs": [
    {
     "name": "stdout",
     "output_type": "stream",
     "text": [
      "Found 70499 images belonging to 29 classes.\n"
     ]
    }
   ],
   "source": [
    "train_generator = train_datagen.flow_from_directory(\n",
    "        train_dir,                                             \n",
    "        target_size=(150, 150),\n",
    "        batch_size=64,\n",
    "        subset='training')"
   ]
  },
  {
   "cell_type": "code",
   "execution_count": 169,
   "id": "453aaf1c",
   "metadata": {},
   "outputs": [
    {
     "name": "stdout",
     "output_type": "stream",
     "text": [
      "Found 7830 images belonging to 29 classes.\n"
     ]
    }
   ],
   "source": [
    "validation_generator = train_datagen.flow_from_directory(\n",
    "        train_dir,                                             \n",
    "        target_size=(150, 150),\n",
    "        batch_size=64,\n",
    "        subset='validation')"
   ]
  },
  {
   "cell_type": "code",
   "execution_count": 170,
   "id": "311b95ac",
   "metadata": {},
   "outputs": [
    {
     "name": "stdout",
     "output_type": "stream",
     "text": [
      "Found 8700 images belonging to 29 classes.\n"
     ]
    }
   ],
   "source": [
    "test_generator = test_datagen.flow_from_directory(\n",
    "        test_dir,                                             \n",
    "        target_size=(150, 150),\n",
    "        batch_size=64\n",
    ")"
   ]
  },
  {
   "cell_type": "code",
   "execution_count": 171,
   "id": "3360c3af",
   "metadata": {},
   "outputs": [
    {
     "name": "stdout",
     "output_type": "stream",
     "text": [
      "data batch shape: (64, 150, 150, 3)\n",
      "labels batch shape: (64, 29)\n"
     ]
    }
   ],
   "source": [
    "for data_batch, labels_batch in train_generator:\n",
    "    print('data batch shape:', data_batch.shape)\n",
    "    print('labels batch shape:', labels_batch.shape)\n",
    "    break"
   ]
  },
  {
   "cell_type": "code",
   "execution_count": 172,
   "id": "fae30ff4",
   "metadata": {},
   "outputs": [
    {
     "name": "stdout",
     "output_type": "stream",
     "text": [
      "Writing data/data_loader.py\n"
     ]
    }
   ],
   "source": [
    "%%writefile data/data_loader.py\n",
    "import os\n",
    "from tensorflow.keras.preprocessing.image import ImageDataGenerator\n",
    "\n",
    "def load_data(target_size=(150, 150)):\n",
    "    base_dir = os.path.dirname(os.path.realpath(__file__))\n",
    "    train_dir = os.path.join(base_dir, 'train')\n",
    "    test_dir = os.path.join(base_dir, 'test')\n",
    "\n",
    "    train_datagen = ImageDataGenerator(rescale=1./255, validation_split=0.1)             \n",
    "    test_datagen = ImageDataGenerator(rescale=1./255)   \n",
    "\n",
    "    train_generator = train_datagen.flow_from_directory(\n",
    "            train_dir,                                             \n",
    "            target_size=target_size,\n",
    "            batch_size=64,\n",
    "            subset='training')\n",
    "\n",
    "    validation_generator = train_datagen.flow_from_directory(\n",
    "            train_dir,                                             \n",
    "            target_size=target_size,\n",
    "            batch_size=64,\n",
    "            subset='validation')\n",
    "\n",
    "    test_generator = test_datagen.flow_from_directory(\n",
    "            test_dir,                                             \n",
    "            target_size=target_size,\n",
    "            batch_size=64\n",
    "    )\n",
    "\n",
    "    return train_generator, validation_generator, test_generator"
   ]
  }
 ],
 "metadata": {
  "kernelspec": {
   "display_name": "Python 3 (ipykernel)",
   "language": "python",
   "name": "python3"
  },
  "language_info": {
   "codemirror_mode": {
    "name": "ipython",
    "version": 3
   },
   "file_extension": ".py",
   "mimetype": "text/x-python",
   "name": "python",
   "nbconvert_exporter": "python",
   "pygments_lexer": "ipython3",
   "version": "3.9.15"
  }
 },
 "nbformat": 4,
 "nbformat_minor": 5
}
